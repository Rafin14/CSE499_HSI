{
 "cells": [
  {
   "cell_type": "code",
   "execution_count": 1,
   "metadata": {},
   "outputs": [
    {
     "name": "stderr",
     "output_type": "stream",
     "text": [
      "c:\\Users\\zarin\\AppData\\Local\\Programs\\Python\\Python310\\lib\\site-packages\\rasterio\\__init__.py:317: NotGeoreferencedWarning: Dataset has no geotransform, gcps, or rpcs. The identity matrix will be returned.\n",
      "  dataset = DatasetReader(path, driver=driver, sharing=sharing, **kwargs)\n"
     ]
    },
    {
     "name": "stdout",
     "output_type": "stream",
     "text": [
      "Converted patch_0001.bil to C:/Users/zarin/OneDrive/Desktop/NSU/12th Semester/CSE 499/Datasets/Blueberry/Patches_Bad_Numpy(1-42)\\patch_0001.npy\n",
      "Converted patch_0001_2masked_file.bil to C:/Users/zarin/OneDrive/Desktop/NSU/12th Semester/CSE 499/Datasets/Blueberry/Patches_Bad_Numpy(1-42)\\patch_0001_2masked_file.npy\n",
      "Converted patch_0001_3masked_file.bil to C:/Users/zarin/OneDrive/Desktop/NSU/12th Semester/CSE 499/Datasets/Blueberry/Patches_Bad_Numpy(1-42)\\patch_0001_3masked_file.npy\n",
      "Converted patch_0001_masked_file.bil to C:/Users/zarin/OneDrive/Desktop/NSU/12th Semester/CSE 499/Datasets/Blueberry/Patches_Bad_Numpy(1-42)\\patch_0001_masked_file.npy\n",
      "Converted patch_0002.bil to C:/Users/zarin/OneDrive/Desktop/NSU/12th Semester/CSE 499/Datasets/Blueberry/Patches_Bad_Numpy(1-42)\\patch_0002.npy\n",
      "Converted patch_0003.bil to C:/Users/zarin/OneDrive/Desktop/NSU/12th Semester/CSE 499/Datasets/Blueberry/Patches_Bad_Numpy(1-42)\\patch_0003.npy\n",
      "Converted patch_0004.bil to C:/Users/zarin/OneDrive/Desktop/NSU/12th Semester/CSE 499/Datasets/Blueberry/Patches_Bad_Numpy(1-42)\\patch_0004.npy\n",
      "Converted patch_0005.bil to C:/Users/zarin/OneDrive/Desktop/NSU/12th Semester/CSE 499/Datasets/Blueberry/Patches_Bad_Numpy(1-42)\\patch_0005.npy\n",
      "Converted patch_0006.bil to C:/Users/zarin/OneDrive/Desktop/NSU/12th Semester/CSE 499/Datasets/Blueberry/Patches_Bad_Numpy(1-42)\\patch_0006.npy\n",
      "Converted patch_0007.bil to C:/Users/zarin/OneDrive/Desktop/NSU/12th Semester/CSE 499/Datasets/Blueberry/Patches_Bad_Numpy(1-42)\\patch_0007.npy\n",
      "Converted patch_0008.bil to C:/Users/zarin/OneDrive/Desktop/NSU/12th Semester/CSE 499/Datasets/Blueberry/Patches_Bad_Numpy(1-42)\\patch_0008.npy\n",
      "Converted patch_0009.bil to C:/Users/zarin/OneDrive/Desktop/NSU/12th Semester/CSE 499/Datasets/Blueberry/Patches_Bad_Numpy(1-42)\\patch_0009.npy\n",
      "Converted patch_0010.bil to C:/Users/zarin/OneDrive/Desktop/NSU/12th Semester/CSE 499/Datasets/Blueberry/Patches_Bad_Numpy(1-42)\\patch_0010.npy\n",
      "Converted patch_0011.bil to C:/Users/zarin/OneDrive/Desktop/NSU/12th Semester/CSE 499/Datasets/Blueberry/Patches_Bad_Numpy(1-42)\\patch_0011.npy\n",
      "Converted patch_0012.bil to C:/Users/zarin/OneDrive/Desktop/NSU/12th Semester/CSE 499/Datasets/Blueberry/Patches_Bad_Numpy(1-42)\\patch_0012.npy\n",
      "Converted patch_0013.bil to C:/Users/zarin/OneDrive/Desktop/NSU/12th Semester/CSE 499/Datasets/Blueberry/Patches_Bad_Numpy(1-42)\\patch_0013.npy\n",
      "Converted patch_0014.bil to C:/Users/zarin/OneDrive/Desktop/NSU/12th Semester/CSE 499/Datasets/Blueberry/Patches_Bad_Numpy(1-42)\\patch_0014.npy\n",
      "Converted patch_0015.bil to C:/Users/zarin/OneDrive/Desktop/NSU/12th Semester/CSE 499/Datasets/Blueberry/Patches_Bad_Numpy(1-42)\\patch_0015.npy\n",
      "Converted patch_0016.bil to C:/Users/zarin/OneDrive/Desktop/NSU/12th Semester/CSE 499/Datasets/Blueberry/Patches_Bad_Numpy(1-42)\\patch_0016.npy\n",
      "Converted patch_0017.bil to C:/Users/zarin/OneDrive/Desktop/NSU/12th Semester/CSE 499/Datasets/Blueberry/Patches_Bad_Numpy(1-42)\\patch_0017.npy\n",
      "Converted patch_0018.bil to C:/Users/zarin/OneDrive/Desktop/NSU/12th Semester/CSE 499/Datasets/Blueberry/Patches_Bad_Numpy(1-42)\\patch_0018.npy\n",
      "Converted patch_0019.bil to C:/Users/zarin/OneDrive/Desktop/NSU/12th Semester/CSE 499/Datasets/Blueberry/Patches_Bad_Numpy(1-42)\\patch_0019.npy\n",
      "Converted patch_0020.bil to C:/Users/zarin/OneDrive/Desktop/NSU/12th Semester/CSE 499/Datasets/Blueberry/Patches_Bad_Numpy(1-42)\\patch_0020.npy\n",
      "Converted patch_0020_masked_file.bil to C:/Users/zarin/OneDrive/Desktop/NSU/12th Semester/CSE 499/Datasets/Blueberry/Patches_Bad_Numpy(1-42)\\patch_0020_masked_file.npy\n",
      "Converted patch_0021.bil to C:/Users/zarin/OneDrive/Desktop/NSU/12th Semester/CSE 499/Datasets/Blueberry/Patches_Bad_Numpy(1-42)\\patch_0021.npy\n",
      "Converted patch_0022.bil to C:/Users/zarin/OneDrive/Desktop/NSU/12th Semester/CSE 499/Datasets/Blueberry/Patches_Bad_Numpy(1-42)\\patch_0022.npy\n",
      "Converted patch_0023.bil to C:/Users/zarin/OneDrive/Desktop/NSU/12th Semester/CSE 499/Datasets/Blueberry/Patches_Bad_Numpy(1-42)\\patch_0023.npy\n",
      "Converted patch_0024.bil to C:/Users/zarin/OneDrive/Desktop/NSU/12th Semester/CSE 499/Datasets/Blueberry/Patches_Bad_Numpy(1-42)\\patch_0024.npy\n",
      "Converted patch_0025.bil to C:/Users/zarin/OneDrive/Desktop/NSU/12th Semester/CSE 499/Datasets/Blueberry/Patches_Bad_Numpy(1-42)\\patch_0025.npy\n",
      "Converted patch_0026.bil to C:/Users/zarin/OneDrive/Desktop/NSU/12th Semester/CSE 499/Datasets/Blueberry/Patches_Bad_Numpy(1-42)\\patch_0026.npy\n",
      "Converted patch_0027.bil to C:/Users/zarin/OneDrive/Desktop/NSU/12th Semester/CSE 499/Datasets/Blueberry/Patches_Bad_Numpy(1-42)\\patch_0027.npy\n",
      "Converted patch_0028.bil to C:/Users/zarin/OneDrive/Desktop/NSU/12th Semester/CSE 499/Datasets/Blueberry/Patches_Bad_Numpy(1-42)\\patch_0028.npy\n",
      "Converted patch_0029.bil to C:/Users/zarin/OneDrive/Desktop/NSU/12th Semester/CSE 499/Datasets/Blueberry/Patches_Bad_Numpy(1-42)\\patch_0029.npy\n",
      "Converted patch_0029_masked_file.bil to C:/Users/zarin/OneDrive/Desktop/NSU/12th Semester/CSE 499/Datasets/Blueberry/Patches_Bad_Numpy(1-42)\\patch_0029_masked_file.npy\n",
      "Converted patch_0030.bil to C:/Users/zarin/OneDrive/Desktop/NSU/12th Semester/CSE 499/Datasets/Blueberry/Patches_Bad_Numpy(1-42)\\patch_0030.npy\n"
     ]
    }
   ],
   "source": [
    "import numpy as np\n",
    "import rasterio\n",
    "import os\n",
    "\n",
    "# Set the folder containing the .bil files\n",
    "bil_folder = \"C:/Users/zarin/OneDrive/Desktop/NSU/12th Semester/CSE 499/Datasets/Blueberry/Patches_Bad(1-42)\"\n",
    "output_folder = \"C:/Users/zarin/OneDrive/Desktop/NSU/12th Semester/CSE 499/Datasets/Blueberry/Patches_Bad_Numpy(1-42)\"\n",
    "\n",
    "# Ensure the output folder exists\n",
    "os.makedirs(output_folder, exist_ok=True)\n",
    "\n",
    "# Iterate through all files in the folder\n",
    "for filename in os.listdir(bil_folder):\n",
    "    if filename.endswith('.bil'):  # Check if the file is a .bil file\n",
    "        input_bil = os.path.join(bil_folder, filename)\n",
    "        \n",
    "        # Define the output .npy file name\n",
    "        output_npy = os.path.join(output_folder, filename.replace('.bil', '.npy'))\n",
    "        \n",
    "        # Read the .bil file\n",
    "        with rasterio.open(input_bil) as src:\n",
    "            data = src.read()\n",
    "        \n",
    "        # Save the NumPy array to a .npy file\n",
    "        np.save(output_npy, data)\n",
    "        print(f\"Converted {filename} to {output_npy}\")\n"
   ]
  }
 ],
 "metadata": {
  "kernelspec": {
   "display_name": "Python 3",
   "language": "python",
   "name": "python3"
  },
  "language_info": {
   "codemirror_mode": {
    "name": "ipython",
    "version": 3
   },
   "file_extension": ".py",
   "mimetype": "text/x-python",
   "name": "python",
   "nbconvert_exporter": "python",
   "pygments_lexer": "ipython3",
   "version": "3.10.0"
  }
 },
 "nbformat": 4,
 "nbformat_minor": 2
}
