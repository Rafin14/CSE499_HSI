{
 "cells": [
  {
   "cell_type": "code",
   "execution_count": 7,
   "metadata": {},
   "outputs": [
    {
     "name": "stdout",
     "output_type": "stream",
     "text": [
      "Converted: patch_0001.bil -> C:/Users/zarin/OneDrive/Desktop/NSU/12th Semester/CSE 499/Datasets/Blueberry/Patches_Good(169-210)\\patch_0001.png\n",
      "Converted: patch_0002.bil -> C:/Users/zarin/OneDrive/Desktop/NSU/12th Semester/CSE 499/Datasets/Blueberry/Patches_Good(169-210)\\patch_0002.png\n",
      "Converted: patch_0003.bil -> C:/Users/zarin/OneDrive/Desktop/NSU/12th Semester/CSE 499/Datasets/Blueberry/Patches_Good(169-210)\\patch_0003.png\n",
      "Converted: patch_0004.bil -> C:/Users/zarin/OneDrive/Desktop/NSU/12th Semester/CSE 499/Datasets/Blueberry/Patches_Good(169-210)\\patch_0004.png\n",
      "Converted: patch_0005.bil -> C:/Users/zarin/OneDrive/Desktop/NSU/12th Semester/CSE 499/Datasets/Blueberry/Patches_Good(169-210)\\patch_0005.png\n",
      "Converted: patch_0006.bil -> C:/Users/zarin/OneDrive/Desktop/NSU/12th Semester/CSE 499/Datasets/Blueberry/Patches_Good(169-210)\\patch_0006.png\n",
      "Converted: patch_0007.bil -> C:/Users/zarin/OneDrive/Desktop/NSU/12th Semester/CSE 499/Datasets/Blueberry/Patches_Good(169-210)\\patch_0007.png\n",
      "Converted: patch_0008.bil -> C:/Users/zarin/OneDrive/Desktop/NSU/12th Semester/CSE 499/Datasets/Blueberry/Patches_Good(169-210)\\patch_0008.png\n",
      "Converted: patch_0009.bil -> C:/Users/zarin/OneDrive/Desktop/NSU/12th Semester/CSE 499/Datasets/Blueberry/Patches_Good(169-210)\\patch_0009.png\n",
      "Converted: patch_0010.bil -> C:/Users/zarin/OneDrive/Desktop/NSU/12th Semester/CSE 499/Datasets/Blueberry/Patches_Good(169-210)\\patch_0010.png\n",
      "Converted: patch_0011.bil -> C:/Users/zarin/OneDrive/Desktop/NSU/12th Semester/CSE 499/Datasets/Blueberry/Patches_Good(169-210)\\patch_0011.png\n",
      "Converted: patch_0012.bil -> C:/Users/zarin/OneDrive/Desktop/NSU/12th Semester/CSE 499/Datasets/Blueberry/Patches_Good(169-210)\\patch_0012.png\n",
      "Converted: patch_0013.bil -> C:/Users/zarin/OneDrive/Desktop/NSU/12th Semester/CSE 499/Datasets/Blueberry/Patches_Good(169-210)\\patch_0013.png\n",
      "Converted: patch_0014.bil -> C:/Users/zarin/OneDrive/Desktop/NSU/12th Semester/CSE 499/Datasets/Blueberry/Patches_Good(169-210)\\patch_0014.png\n",
      "Converted: patch_0015.bil -> C:/Users/zarin/OneDrive/Desktop/NSU/12th Semester/CSE 499/Datasets/Blueberry/Patches_Good(169-210)\\patch_0015.png\n",
      "Converted: patch_0016.bil -> C:/Users/zarin/OneDrive/Desktop/NSU/12th Semester/CSE 499/Datasets/Blueberry/Patches_Good(169-210)\\patch_0016.png\n",
      "Converted: patch_0017.bil -> C:/Users/zarin/OneDrive/Desktop/NSU/12th Semester/CSE 499/Datasets/Blueberry/Patches_Good(169-210)\\patch_0017.png\n",
      "Converted: patch_0018.bil -> C:/Users/zarin/OneDrive/Desktop/NSU/12th Semester/CSE 499/Datasets/Blueberry/Patches_Good(169-210)\\patch_0018.png\n",
      "Converted: patch_0019.bil -> C:/Users/zarin/OneDrive/Desktop/NSU/12th Semester/CSE 499/Datasets/Blueberry/Patches_Good(169-210)\\patch_0019.png\n",
      "Converted: patch_0020.bil -> C:/Users/zarin/OneDrive/Desktop/NSU/12th Semester/CSE 499/Datasets/Blueberry/Patches_Good(169-210)\\patch_0020.png\n",
      "Converted: patch_0021.bil -> C:/Users/zarin/OneDrive/Desktop/NSU/12th Semester/CSE 499/Datasets/Blueberry/Patches_Good(169-210)\\patch_0021.png\n",
      "Converted: patch_0022.bil -> C:/Users/zarin/OneDrive/Desktop/NSU/12th Semester/CSE 499/Datasets/Blueberry/Patches_Good(169-210)\\patch_0022.png\n",
      "Converted: patch_0023.bil -> C:/Users/zarin/OneDrive/Desktop/NSU/12th Semester/CSE 499/Datasets/Blueberry/Patches_Good(169-210)\\patch_0023.png\n",
      "Converted: patch_0024.bil -> C:/Users/zarin/OneDrive/Desktop/NSU/12th Semester/CSE 499/Datasets/Blueberry/Patches_Good(169-210)\\patch_0024.png\n",
      "Converted: patch_0025.bil -> C:/Users/zarin/OneDrive/Desktop/NSU/12th Semester/CSE 499/Datasets/Blueberry/Patches_Good(169-210)\\patch_0025.png\n",
      "Converted: patch_0026.bil -> C:/Users/zarin/OneDrive/Desktop/NSU/12th Semester/CSE 499/Datasets/Blueberry/Patches_Good(169-210)\\patch_0026.png\n",
      "Converted: patch_0027.bil -> C:/Users/zarin/OneDrive/Desktop/NSU/12th Semester/CSE 499/Datasets/Blueberry/Patches_Good(169-210)\\patch_0027.png\n",
      "Converted: patch_0028.bil -> C:/Users/zarin/OneDrive/Desktop/NSU/12th Semester/CSE 499/Datasets/Blueberry/Patches_Good(169-210)\\patch_0028.png\n",
      "Converted: patch_0029.bil -> C:/Users/zarin/OneDrive/Desktop/NSU/12th Semester/CSE 499/Datasets/Blueberry/Patches_Good(169-210)\\patch_0029.png\n",
      "Converted: patch_0030.bil -> C:/Users/zarin/OneDrive/Desktop/NSU/12th Semester/CSE 499/Datasets/Blueberry/Patches_Good(169-210)\\patch_0030.png\n",
      "Converted: patch_0031.bil -> C:/Users/zarin/OneDrive/Desktop/NSU/12th Semester/CSE 499/Datasets/Blueberry/Patches_Good(169-210)\\patch_0031.png\n",
      "Converted: patch_0032.bil -> C:/Users/zarin/OneDrive/Desktop/NSU/12th Semester/CSE 499/Datasets/Blueberry/Patches_Good(169-210)\\patch_0032.png\n",
      "Converted: patch_0033.bil -> C:/Users/zarin/OneDrive/Desktop/NSU/12th Semester/CSE 499/Datasets/Blueberry/Patches_Good(169-210)\\patch_0033.png\n",
      "Converted: patch_0034.bil -> C:/Users/zarin/OneDrive/Desktop/NSU/12th Semester/CSE 499/Datasets/Blueberry/Patches_Good(169-210)\\patch_0034.png\n",
      "Converted: patch_0035.bil -> C:/Users/zarin/OneDrive/Desktop/NSU/12th Semester/CSE 499/Datasets/Blueberry/Patches_Good(169-210)\\patch_0035.png\n",
      "Converted: patch_0036.bil -> C:/Users/zarin/OneDrive/Desktop/NSU/12th Semester/CSE 499/Datasets/Blueberry/Patches_Good(169-210)\\patch_0036.png\n"
     ]
    }
   ],
   "source": [
    "import os\n",
    "import rasterio\n",
    "import matplotlib.pyplot as plt\n",
    "import numpy as np\n",
    "\n",
    "# Input and Output directories\n",
    "input_folder = \"C:/Users/zarin/OneDrive/Desktop/NSU/12th Semester/CSE 499/Datasets/Blueberry/Patches_Good(169-210)\"\n",
    "output_folder = \"C:/Users/zarin/OneDrive/Desktop/NSU/12th Semester/CSE 499/Datasets/Blueberry/Patches_Good(169-210)\"\n",
    "\n",
    "# Create output folder if it doesn't exist\n",
    "os.makedirs(output_folder, exist_ok=True)\n",
    "\n",
    "# Iterate over all .bil files in the input folder\n",
    "for file_name in os.listdir(input_folder):\n",
    "    if file_name.endswith(\".bil\"):\n",
    "        file_path = os.path.join(input_folder, file_name)\n",
    "        with rasterio.open(file_path) as dataset:\n",
    "            # Read the first band\n",
    "            band = dataset.read(1)\n",
    "\n",
    "            # Normalize data for better visualization\n",
    "            band_normalized = (band - np.min(band)) / (np.max(band) - np.min(band))\n",
    "\n",
    "            # Save as PNG\n",
    "            output_path = os.path.join(output_folder, f\"{os.path.splitext(file_name)[0]}.png\")\n",
    "            plt.imsave(output_path, band_normalized, cmap='gray')\n",
    "            \n",
    "        print(f\"Converted: {file_name} -> {output_path}\")\n"
   ]
  }
 ],
 "metadata": {
  "kernelspec": {
   "display_name": "Python 3",
   "language": "python",
   "name": "python3"
  },
  "language_info": {
   "codemirror_mode": {
    "name": "ipython",
    "version": 3
   },
   "file_extension": ".py",
   "mimetype": "text/x-python",
   "name": "python",
   "nbconvert_exporter": "python",
   "pygments_lexer": "ipython3",
   "version": "3.10.0"
  }
 },
 "nbformat": 4,
 "nbformat_minor": 2
}
