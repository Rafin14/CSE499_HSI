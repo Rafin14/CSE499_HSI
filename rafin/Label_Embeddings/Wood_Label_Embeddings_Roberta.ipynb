{
 "cells": [
  {
   "cell_type": "code",
   "execution_count": null,
   "metadata": {},
   "outputs": [],
   "source": [
    "from transformers import RobertaTokenizer, RobertaModel\n",
    "import torch\n",
    "from sklearn.metrics.pairwise import cosine_similarity\n",
    "import numpy as np"
   ]
  },
  {
   "cell_type": "code",
   "execution_count": null,
   "metadata": {},
   "outputs": [],
   "source": [
    "# Step 1: Load the text from a .txt file\n",
    "file_path = 'wood_corpus.txt'\n",
    "\n",
    "with open(file_path, 'r', encoding='utf-8') as file:\n",
    "    text = file.read()"
   ]
  },
  {
   "cell_type": "code",
   "execution_count": null,
   "metadata": {},
   "outputs": [],
   "source": [
    "# Step 2: Load pre-trained RoBERTa tokenizer and model\n",
    "tokenizer = RobertaTokenizer.from_pretrained('roberta-large')\n",
    "model = RobertaModel.from_pretrained('roberta-large')"
   ]
  },
  {
   "cell_type": "code",
   "execution_count": null,
   "metadata": {},
   "outputs": [],
   "source": [
    "# Step 3: Tokenize the text\n",
    "inputs = tokenizer(text, return_tensors='pt', truncation=True, padding=True)\n",
    "\n",
    "#see tokens:\n",
    "input_ids = inputs['input_ids'][0]\n",
    "tokens = tokenizer.convert_ids_to_tokens(input_ids)\n",
    "\n",
    "print(\"Tokens:\", tokens)"
   ]
  },
  {
   "cell_type": "code",
   "execution_count": null,
   "metadata": {},
   "outputs": [],
   "source": [
    "# Step 4: Extract embeddings\n",
    "# Get the tokenized input IDs and attention mask\n",
    "input_ids = inputs['input_ids']\n",
    "attention_mask = inputs['attention_mask']\n",
    "\n",
    "# Run the inputs through the model\n",
    "with torch.no_grad():\n",
    "    \n",
    "    outputs = model(input_ids, attention_mask=attention_mask)\n",
    "    # Get the last hidden states (embeddings for each token)\n",
    "    embeddings = outputs.last_hidden_state"
   ]
  },
  {
   "cell_type": "code",
   "execution_count": null,
   "metadata": {},
   "outputs": [],
   "source": [
    "# List of words to extract embeddings for\n",
    "words = [\"heartwood\", \"sapwood\"]\n",
    "\n",
    "# Tokenize the individual words\n",
    "words_ids = {word: tokenizer.encode(word, add_special_tokens=False) for word in words}\n",
    "\n",
    "# Initialize a dictionary to store embeddings\n",
    "embeddings_dict = {}\n",
    "\n",
    "# Loop through each word in the list\n",
    "for word, word_id in words_ids.items():\n",
    "    \n",
    "    # Find the indices of this word in the tokenized input\n",
    "    indices = [i for i, id_ in enumerate(input_ids[0]) if id_ in word_id]\n",
    "    \n",
    "    # Extract embeddings for the specific word\n",
    "    embedding = embeddings[0, indices, :].mean(dim=0) if indices else None\n",
    "    \n",
    "    # Store the embedding in the dictionary\n",
    "    embeddings_dict[word] = embedding\n",
    "\n",
    "# Output the embeddings\n",
    "for word, embedding in embeddings_dict.items():\n",
    "    \n",
    "    print(f\"Embedding for {word}: {embedding}\")\n",
    "    \n",
    "heartwood_embedding = embeddings_dict[\"heartwood\"]\n",
    "sapwood_embedding = embeddings_dict[\"sapwood\"]"
   ]
  },
  {
   "cell_type": "code",
   "execution_count": null,
   "metadata": {},
   "outputs": [],
   "source": [
    "print(heartwood_embedding.shape, sapwood_embedding.shape)\n",
    "\n",
    "similarity = cosine_similarity(heartwood_embedding.unsqueeze(0), sapwood_embedding.unsqueeze(0))\n",
    "print(\"Cosine Similarity:\", similarity)"
   ]
  },
  {
   "cell_type": "code",
   "execution_count": null,
   "metadata": {},
   "outputs": [],
   "source": [
    "# Save the embeddings to a .npy file\n",
    "np.save(\"Wood_Embeddings.npy\", embeddings_dict)"
   ]
  },
  {
   "cell_type": "code",
   "execution_count": null,
   "metadata": {},
   "outputs": [],
   "source": [
    "#load the embeddings back to verify\n",
    "loaded_embeddings = np.load(\"Wood_Embeddings.npy\", allow_pickle=True).item()\n",
    "\n",
    "#print(loaded_embeddings.shape)\n",
    "print(loaded_embeddings)"
   ]
  },
  {
   "cell_type": "code",
   "execution_count": null,
   "metadata": {},
   "outputs": [],
   "source": [
    "'''\n",
    "# Assume embedding_1 is from my example and embedding_2 is from your example\n",
    "diff = heartwood_embedding - embedding_word_1\n",
    "\n",
    "# Check if all elements are zero (exact match)\n",
    "is_exact = torch.equal(heartwood_embedding, embedding_word_1)\n",
    "\n",
    "# Alternatively, check for approximate equality (handles floating-point precision issues)\n",
    "is_approx_equal = torch.allclose(heartwood_embedding, embedding_word_1, atol=1e-6)\n",
    "\n",
    "print(\"Are the embeddings exactly the same?\", is_exact)\n",
    "print(\"Are the embeddings approximately the same?\", is_approx_equal)\n",
    "'''"
   ]
  }
 ],
 "metadata": {
  "kernelspec": {
   "display_name": "Python 3",
   "language": "python",
   "name": "python3"
  },
  "language_info": {
   "codemirror_mode": {
    "name": "ipython",
    "version": 3
   },
   "file_extension": ".py",
   "mimetype": "text/x-python",
   "name": "python",
   "nbconvert_exporter": "python",
   "pygments_lexer": "ipython3",
   "version": "3.10.0"
  }
 },
 "nbformat": 4,
 "nbformat_minor": 2
}
