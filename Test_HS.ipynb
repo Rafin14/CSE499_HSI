{
  "cells": [
    {
      "cell_type": "code",
      "execution_count": 9,
      "id": "4_FGiW6tfXrK",
      "metadata": {
        "colab": {
          "base_uri": "https://localhost:8080/"
        },
        "id": "4_FGiW6tfXrK",
        "outputId": "b7b58eb0-bdaa-4dd8-fd5f-65e73ec90a79"
      },
      "outputs": [],
      "source": [
        "import matplotlib.pyplot as plt\n",
        "import rasterio"
      ]
    },
    {
      "cell_type": "code",
      "execution_count": 22,
      "id": "k7UAA5h1WdSw",
      "metadata": {
        "colab": {
          "base_uri": "https://localhost:8080/",
          "height": 451
        },
        "id": "k7UAA5h1WdSw",
        "outputId": "f55293cd-8b90-4f01-b221-4765ba9163a2"
      },
      "outputs": [],
      "source": [
        "# Load an image\n",
        "\n",
        "img_src = 'C:/Users/rafin/Desktop/NSU/NSU 12th Semester/CSE499A.22/Project/Datasets/Apple_Datasets/Apple_BIL/Apple_BIL_Cubes/Apple_samples/Monostar/Fresh/1_2PU_cube_2.bil'\n",
        "#img_src = 'p1.tiff'\n",
        "#img_src = '19920612_AVIRIS_IndianPine_EW-line_R.tif'\n",
        "#img_src = '19920612_AVIRIS_IndianPine_Site3.tif'\n",
        "#img_src = 'MA1_L1.tif'\n",
        "#img_src = '1_1HG.bil'\n",
        "#img_src = 'peslady84.tif'\n",
        "#img_src = 'MA1_H1.bil'\n",
        "\n",
        "#original_img = plt.imread(img_src)\n",
        "\n",
        "#plt.imshow(original_img)\n",
        "#print(\"Shape of original_img is:\", original_img.shape)"
      ]
    },
    {
      "cell_type": "code",
      "execution_count": 23,
      "id": "557bd890",
      "metadata": {},
      "outputs": [
        {
          "name": "stdout",
          "output_type": "stream",
          "text": [
            "{'driver': 'ENVI', 'dtype': 'float32', 'nodata': None, 'width': 20, 'height': 20, 'count': 300, 'crs': None, 'transform': Affine(1.0, 0.0, 0.0,\n",
            "       0.0, 1.0, 0.0)}\n",
            "{'Band_1': 'Band 1', 'Band_2': 'Band 2', 'Band_3': 'Band 3', 'Band_4': 'Band 4', 'Band_5': 'Band 5', 'Band_6': 'Band 6', 'Band_7': 'Band 7', 'Band_8': 'Band 8', 'Band_9': 'Band 9', 'Band_10': 'Band 10', 'Band_11': 'Band 11', 'Band_12': 'Band 12', 'Band_13': 'Band 13', 'Band_14': 'Band 14', 'Band_15': 'Band 15', 'Band_16': 'Band 16', 'Band_17': 'Band 17', 'Band_18': 'Band 18', 'Band_19': 'Band 19', 'Band_20': 'Band 20', 'Band_21': 'Band 21', 'Band_22': 'Band 22', 'Band_23': 'Band 23', 'Band_24': 'Band 24', 'Band_25': 'Band 25', 'Band_26': 'Band 26', 'Band_27': 'Band 27', 'Band_28': 'Band 28', 'Band_29': 'Band 29', 'Band_30': 'Band 30', 'Band_31': 'Band 31', 'Band_32': 'Band 32', 'Band_33': 'Band 33', 'Band_34': 'Band 34', 'Band_35': 'Band 35', 'Band_36': 'Band 36', 'Band_37': 'Band 37', 'Band_38': 'Band 38', 'Band_39': 'Band 39', 'Band_40': 'Band 40', 'Band_41': 'Band 41', 'Band_42': 'Band 42', 'Band_43': 'Band 43', 'Band_44': 'Band 44', 'Band_45': 'Band 45', 'Band_46': 'Band 46', 'Band_47': 'Band 47', 'Band_48': 'Band 48', 'Band_49': 'Band 49', 'Band_50': 'Band 50', 'Band_51': 'Band 51', 'Band_52': 'Band 52', 'Band_53': 'Band 53', 'Band_54': 'Band 54', 'Band_55': 'Band 55', 'Band_56': 'Band 56', 'Band_57': 'Band 57', 'Band_58': 'Band 58', 'Band_59': 'Band 59', 'Band_60': 'Band 60', 'Band_61': 'Band 61', 'Band_62': 'Band 62', 'Band_63': 'Band 63', 'Band_64': 'Band 64', 'Band_65': 'Band 65', 'Band_66': 'Band 66', 'Band_67': 'Band 67', 'Band_68': 'Band 68', 'Band_69': 'Band 69', 'Band_70': 'Band 70', 'Band_71': 'Band 71', 'Band_72': 'Band 72', 'Band_73': 'Band 73', 'Band_74': 'Band 74', 'Band_75': 'Band 75', 'Band_76': 'Band 76', 'Band_77': 'Band 77', 'Band_78': 'Band 78', 'Band_79': 'Band 79', 'Band_80': 'Band 80', 'Band_81': 'Band 81', 'Band_82': 'Band 82', 'Band_83': 'Band 83', 'Band_84': 'Band 84', 'Band_85': 'Band 85', 'Band_86': 'Band 86', 'Band_87': 'Band 87', 'Band_88': 'Band 88', 'Band_89': 'Band 89', 'Band_90': 'Band 90', 'Band_91': 'Band 91', 'Band_92': 'Band 92', 'Band_93': 'Band 93', 'Band_94': 'Band 94', 'Band_95': 'Band 95', 'Band_96': 'Band 96', 'Band_97': 'Band 97', 'Band_98': 'Band 98', 'Band_99': 'Band 99', 'Band_100': 'Band 100', 'Band_101': 'Band 101', 'Band_102': 'Band 102', 'Band_103': 'Band 103', 'Band_104': 'Band 104', 'Band_105': 'Band 105', 'Band_106': 'Band 106', 'Band_107': 'Band 107', 'Band_108': 'Band 108', 'Band_109': 'Band 109', 'Band_110': 'Band 110', 'Band_111': 'Band 111', 'Band_112': 'Band 112', 'Band_113': 'Band 113', 'Band_114': 'Band 114', 'Band_115': 'Band 115', 'Band_116': 'Band 116', 'Band_117': 'Band 117', 'Band_118': 'Band 118', 'Band_119': 'Band 119', 'Band_120': 'Band 120', 'Band_121': 'Band 121', 'Band_122': 'Band 122', 'Band_123': 'Band 123', 'Band_124': 'Band 124', 'Band_125': 'Band 125', 'Band_126': 'Band 126', 'Band_127': 'Band 127', 'Band_128': 'Band 128', 'Band_129': 'Band 129', 'Band_130': 'Band 130', 'Band_131': 'Band 131', 'Band_132': 'Band 132', 'Band_133': 'Band 133', 'Band_134': 'Band 134', 'Band_135': 'Band 135', 'Band_136': 'Band 136', 'Band_137': 'Band 137', 'Band_138': 'Band 138', 'Band_139': 'Band 139', 'Band_140': 'Band 140', 'Band_141': 'Band 141', 'Band_142': 'Band 142', 'Band_143': 'Band 143', 'Band_144': 'Band 144', 'Band_145': 'Band 145', 'Band_146': 'Band 146', 'Band_147': 'Band 147', 'Band_148': 'Band 148', 'Band_149': 'Band 149', 'Band_150': 'Band 150', 'Band_151': 'Band 151', 'Band_152': 'Band 152', 'Band_153': 'Band 153', 'Band_154': 'Band 154', 'Band_155': 'Band 155', 'Band_156': 'Band 156', 'Band_157': 'Band 157', 'Band_158': 'Band 158', 'Band_159': 'Band 159', 'Band_160': 'Band 160', 'Band_161': 'Band 161', 'Band_162': 'Band 162', 'Band_163': 'Band 163', 'Band_164': 'Band 164', 'Band_165': 'Band 165', 'Band_166': 'Band 166', 'Band_167': 'Band 167', 'Band_168': 'Band 168', 'Band_169': 'Band 169', 'Band_170': 'Band 170', 'Band_171': 'Band 171', 'Band_172': 'Band 172', 'Band_173': 'Band 173', 'Band_174': 'Band 174', 'Band_175': 'Band 175', 'Band_176': 'Band 176', 'Band_177': 'Band 177', 'Band_178': 'Band 178', 'Band_179': 'Band 179', 'Band_180': 'Band 180', 'Band_181': 'Band 181', 'Band_182': 'Band 182', 'Band_183': 'Band 183', 'Band_184': 'Band 184', 'Band_185': 'Band 185', 'Band_186': 'Band 186', 'Band_187': 'Band 187', 'Band_188': 'Band 188', 'Band_189': 'Band 189', 'Band_190': 'Band 190', 'Band_191': 'Band 191', 'Band_192': 'Band 192', 'Band_193': 'Band 193', 'Band_194': 'Band 194', 'Band_195': 'Band 195', 'Band_196': 'Band 196', 'Band_197': 'Band 197', 'Band_198': 'Band 198', 'Band_199': 'Band 199', 'Band_200': 'Band 200', 'Band_201': 'Band 201', 'Band_202': 'Band 202', 'Band_203': 'Band 203', 'Band_204': 'Band 204', 'Band_205': 'Band 205', 'Band_206': 'Band 206', 'Band_207': 'Band 207', 'Band_208': 'Band 208', 'Band_209': 'Band 209', 'Band_210': 'Band 210', 'Band_211': 'Band 211', 'Band_212': 'Band 212', 'Band_213': 'Band 213', 'Band_214': 'Band 214', 'Band_215': 'Band 215', 'Band_216': 'Band 216', 'Band_217': 'Band 217', 'Band_218': 'Band 218', 'Band_219': 'Band 219', 'Band_220': 'Band 220', 'Band_221': 'Band 221', 'Band_222': 'Band 222', 'Band_223': 'Band 223', 'Band_224': 'Band 224', 'Band_225': 'Band 225', 'Band_226': 'Band 226', 'Band_227': 'Band 227', 'Band_228': 'Band 228', 'Band_229': 'Band 229', 'Band_230': 'Band 230', 'Band_231': 'Band 231', 'Band_232': 'Band 232', 'Band_233': 'Band 233', 'Band_234': 'Band 234', 'Band_235': 'Band 235', 'Band_236': 'Band 236', 'Band_237': 'Band 237', 'Band_238': 'Band 238', 'Band_239': 'Band 239', 'Band_240': 'Band 240', 'Band_241': 'Band 241', 'Band_242': 'Band 242', 'Band_243': 'Band 243', 'Band_244': 'Band 244', 'Band_245': 'Band 245', 'Band_246': 'Band 246', 'Band_247': 'Band 247', 'Band_248': 'Band 248', 'Band_249': 'Band 249', 'Band_250': 'Band 250', 'Band_251': 'Band 251', 'Band_252': 'Band 252', 'Band_253': 'Band 253', 'Band_254': 'Band 254', 'Band_255': 'Band 255', 'Band_256': 'Band 256', 'Band_257': 'Band 257', 'Band_258': 'Band 258', 'Band_259': 'Band 259', 'Band_260': 'Band 260', 'Band_261': 'Band 261', 'Band_262': 'Band 262', 'Band_263': 'Band 263', 'Band_264': 'Band 264', 'Band_265': 'Band 265', 'Band_266': 'Band 266', 'Band_267': 'Band 267', 'Band_268': 'Band 268', 'Band_269': 'Band 269', 'Band_270': 'Band 270', 'Band_271': 'Band 271', 'Band_272': 'Band 272', 'Band_273': 'Band 273', 'Band_274': 'Band 274', 'Band_275': 'Band 275', 'Band_276': 'Band 276', 'Band_277': 'Band 277', 'Band_278': 'Band 278', 'Band_279': 'Band 279', 'Band_280': 'Band 280', 'Band_281': 'Band 281', 'Band_282': 'Band 282', 'Band_283': 'Band 283', 'Band_284': 'Band 284', 'Band_285': 'Band 285', 'Band_286': 'Band 286', 'Band_287': 'Band 287', 'Band_288': 'Band 288', 'Band_289': 'Band 289', 'Band_290': 'Band 290', 'Band_291': 'Band 291', 'Band_292': 'Band 292', 'Band_293': 'Band 293', 'Band_294': 'Band 294', 'Band_295': 'Band 295', 'Band_296': 'Band 296', 'Band_297': 'Band 297', 'Band_298': 'Band 298', 'Band_299': 'Band 299', 'Band_300': 'Band 300'}\n",
            "Number of bands: 300\n"
          ]
        }
      ],
      "source": [
        "#Showing metadata of image\n",
        "with rasterio.open(img_src) as src:\n",
        "\n",
        "    print(src.meta)\n",
        "    print(src.tags())\n",
        "    \n",
        "    print(f\"Number of bands: {src.count}\")"
      ]
    },
    {
      "cell_type": "code",
      "execution_count": 24,
      "id": "895bebed",
      "metadata": {},
      "outputs": [
        {
          "data": {
            "image/png": "[encoded data removed]",
            "text/plain": [
              "<Figure size 640x480 with 1 Axes>"
            ]
          },
          "metadata": {},
          "output_type": "display_data"
        }
      ],
      "source": [
        "#Visualizing different bands in RGB\n",
        "\n",
        "with rasterio.open(img_src) as src:\n",
        "    \n",
        "    band1 = src.read(1)  # band no.\n",
        "\n",
        "plt.imshow(band1, cmap='viridis')\n",
        "plt.show()"
      ]
    },
    {
      "cell_type": "code",
      "execution_count": 25,
      "id": "10ace797",
      "metadata": {},
      "outputs": [
        {
          "name": "stdout",
          "output_type": "stream",
          "text": [
            "Shape of the data (bands, rows, cols): (300, 20, 20)\n",
            "\n",
            "[[236. 195. 237. 119. 238. 191. 315. 234. 270. 231. 192. 270. 235. 233.\n",
            "  276. 152. 194. 194. 193. 113.]\n",
            " [236. 195. 158. 239. 198. 271. 275. 154. 270. 231. 271. 152. 156. 312.\n",
            "  197. 270. 273. 154. 193.  73.]\n",
            " [275. 155. 158. 119. 319. 271. 236. 234. 153. 152. 192. 230. 156. 194.\n",
            "  117. 270. 194. 194. 313. 232.]\n",
            " [196. 155. 357. 199. 238. 191. 236. 274. 231. 310. 232. 230. 235. 233.\n",
            "  157. 152. 273. 194. 233. 351.]\n",
            " [236. 234. 197. 199. 319. 311. 236. 194. 310. 152. 192. 191. 235. 194.\n",
            "  316. 191. 194. 272. 193. 232.]\n",
            " [275. 274. 317. 199. 238. 151. 196. 234. 153. 191. 192. 270. 156. 194.\n",
            "  197. 191. 194. 272. 233. 232.]\n",
            " [156. 314. 277. 159. 198. 231. 196. 154. 231. 191. 271. 152. 353. 154.\n",
            "  316. 191. 115. 194. 273. 311.]\n",
            " [275. 234. 158. 319. 279. 231. 275. 115. 192. 231. 271. 230. 274. 312.\n",
            "  316. 309. 233. 233. 273. 153.]\n",
            " [275. 314. 277. 239. 238. 271. 275. 274. 310. 152. 152. 270. 274. 351.\n",
            "  316. 309. 312. 391. 114. 430.]\n",
            " [196. 314. 237. 319. 158. 271. 275. 234. 270. 310. 271. 348. 274. 233.\n",
            "  356. 270. 233. 272. 233. 351.]\n",
            " [275. 314. 317. 319. 279. 231. 236. 234. 310. 231. 311. 309. 353. 272.\n",
            "  316. 231. 391. 312. 393. 232.]\n",
            " [196. 432. 197. 319. 238. 311. 315. 313. 349. 191. 351. 309. 195. 272.\n",
            "  475. 349. 312. 272. 393. 351.]\n",
            " [275. 314. 437. 319. 118. 231. 236. 313. 349. 310. 192. 270. 235. 351.\n",
            "  316. 152. 352. 233. 313. 351.]\n",
            " [394. 234. 397. 279. 319. 191. 275. 433. 349. 310. 431. 348. 314. 351.\n",
            "  276. 309. 430. 509. 393. 430.]\n",
            " [394. 393. 237. 359. 279. 351. 315. 393. 349. 310. 311. 348. 432. 430.\n",
            "  396. 467. 391. 430. 472. 390.]\n",
            " [315. 432. 357. 480. 319. 311. 592. 353. 388. 588. 510. 309. 471. 312.\n",
            "  316. 427. 352. 430. 353. 430.]\n",
            " [354. 353. 317. 359. 359. 391. 513. 313. 388. 350. 470. 348. 314. 351.\n",
            "  356. 349. 391. 391. 353. 390.]\n",
            " [433. 432. 317. 319. 319. 471. 394. 313. 388. 469. 391. 427. 432. 430.\n",
            "  555. 388. 352. 430. 472. 469.]\n",
            " [473. 432. 237. 480. 319. 311. 434. 433. 467. 429. 391. 545. 432. 391.\n",
            "  316. 467. 430. 391. 353. 469.]\n",
            " [473. 432. 477. 480. 359. 351. 315. 711. 467. 469. 470. 427. 511. 430.\n",
            "  475. 467. 430. 509. 512. 588.]]\n"
          ]
        }
      ],
      "source": [
        "# Open the .bil file\n",
        "with rasterio.open(img_src) as dataset:\n",
        "    \n",
        "    # Read all bands into a 3D NumPy array (bands, rows, cols)\n",
        "    data = dataset.read()  # Reads all bands\n",
        "\n",
        "\n",
        "# Now 'data' is a 3D NumPy array: (bands, rows, cols)\n",
        "print(f\"Shape of the data (bands, rows, cols): {data.shape}\\n\")\n",
        "\n",
        "# Example: To access the first band\n",
        "first_band = data[1]\n",
        "print(first_band)"
      ]
    }
  ],
  "metadata": {
    "colab": {
      "provenance": []
    },
    "kernelspec": {
      "display_name": "Python 3",
      "language": "python",
      "name": "python3"
    },
    "language_info": {
      "codemirror_mode": {
        "name": "ipython",
        "version": 3
      },
      "file_extension": ".py",
      "mimetype": "text/x-python",
      "name": "python",
      "nbconvert_exporter": "python",
      "pygments_lexer": "ipython3",
      "version": "3.10.0"
    }
  },
  "nbformat": 4,
  "nbformat_minor": 5
}
