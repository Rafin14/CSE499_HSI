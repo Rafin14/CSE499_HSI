{
 "cells": [
  {
   "cell_type": "code",
   "execution_count": 1,
   "metadata": {},
   "outputs": [],
   "source": [
    "import tensorflow as tf\n",
    "from tensorflow.keras import layers, models\n",
    "from tensorflow.keras.losses import SparseCategoricalCrossentropy\n",
    "import numpy as np\n",
    "from sklearn.preprocessing import LabelEncoder\n",
    "from sklearn.metrics import classification_report, confusion_matrix\n",
    "import matplotlib.pyplot as plt\n",
    "import seaborn as sns\n",
    "from sklearn.decomposition import PCA\n",
    "from tensorflow.keras import models, layers, regularizers"
   ]
  },
  {
   "cell_type": "code",
   "execution_count": 2,
   "metadata": {},
   "outputs": [
    {
     "name": "stdout",
     "output_type": "stream",
     "text": [
      "WARNING:tensorflow:From C:\\Users\\rafin\\AppData\\Local\\Temp\\ipykernel_11520\\3036340341.py:4: The name tf.keras.backend.set_session is deprecated. Please use tf.compat.v1.keras.backend.set_session instead.\n",
      "\n",
      "Num GPUs Available:  1\n"
     ]
    }
   ],
   "source": [
    "config = tf.compat.v1.ConfigProto(gpu_options = tf.compat.v1.GPUOptions(per_process_gpu_memory_fraction=0.8))\n",
    "config.gpu_options.allow_growth = True\n",
    "session = tf.compat.v1.Session(config=config)\n",
    "tf.compat.v1.keras.backend.set_session(session)\n",
    "physical_devices = tf.config.experimental.list_physical_devices('GPU')\n",
    "\n",
    "print(\"Num GPUs Available: \", len(physical_devices))"
   ]
  },
  {
   "cell_type": "code",
   "execution_count": 3,
   "metadata": {},
   "outputs": [
    {
     "data": {
      "text/plain": [
       "((264, 32, 32, 320), (264,), (132, 32, 32, 320), (132,))"
      ]
     },
     "execution_count": 3,
     "metadata": {},
     "output_type": "execute_result"
    }
   ],
   "source": [
    "data_train = np.load('Datasets/Wood_train.npy', allow_pickle= True)\n",
    "data_test = np.load('Datasets/Wood_test.npy', allow_pickle= True)\n",
    "\n",
    "train_labels = np.load('Datasets/Wood_train_labels.npy', allow_pickle= True)\n",
    "test_labels = np.load('Datasets/Wood_test_labels.npy', allow_pickle= True)\n",
    "\n",
    "data_train.shape, train_labels.shape, data_test.shape, test_labels.shape"
   ]
  },
  {
   "cell_type": "code",
   "execution_count": 4,
   "metadata": {},
   "outputs": [
    {
     "name": "stdout",
     "output_type": "stream",
     "text": [
      "Train Shape: (264, 32, 32, 320)\n",
      "Test Shape: (132, 32, 32, 320)\n"
     ]
    }
   ],
   "source": [
    "mean = data_train.mean(axis=(0, 1, 2), keepdims=True)\n",
    "std_dev = data_train.std(axis=(0, 1, 2), keepdims=True)\n",
    "\n",
    "# Z-score normalization\n",
    "data_train = (data_train - mean) / std_dev\n",
    "\n",
    "data_test = (data_test - mean) / std_dev\n",
    "\n",
    "print(\"Train Shape:\", data_train.shape)\n",
    "print(\"Test Shape:\", data_test.shape)"
   ]
  },
  {
   "cell_type": "code",
   "execution_count": 5,
   "metadata": {},
   "outputs": [
    {
     "data": {
      "text/plain": [
       "((264, 32, 32, 320, 1), (132, 32, 32, 320, 1))"
      ]
     },
     "execution_count": 5,
     "metadata": {},
     "output_type": "execute_result"
    }
   ],
   "source": [
    "# Add channel dimension to data\n",
    "data_train = data_train[..., np.newaxis]\n",
    "data_test = data_test[..., np.newaxis]\n",
    "\n",
    "data_train.shape, data_test.shape"
   ]
  },
  {
   "cell_type": "code",
   "execution_count": 6,
   "metadata": {},
   "outputs": [],
   "source": [
    "le= LabelEncoder()\n",
    "y_train = le.fit_transform(train_labels)\n",
    "\n",
    "le2= LabelEncoder()\n",
    "y_test= le2.fit_transform(test_labels)"
   ]
  },
  {
   "cell_type": "code",
   "execution_count": 7,
   "metadata": {},
   "outputs": [],
   "source": [
    "def augment_data(sample, label):\n",
    "    \n",
    "    # Random flip along different axes\n",
    "    sample = tf.image.random_flip_left_right(sample)\n",
    "    sample = tf.image.random_flip_up_down(sample)\n",
    "\n",
    "    # Random rotation\n",
    "    sample = tf.image.rot90(sample, k=np.random.randint(1, 4))  # k=1 to 3 random rotations of 90°\n",
    "\n",
    "    # Random intensity scaling (brightness variation)\n",
    "    sample = sample * tf.random.uniform([], 0.9, 1.1)  # Random scale between 0.9 and 1.1\n",
    "    \n",
    "    return sample, label"
   ]
  },
  {
   "cell_type": "code",
   "execution_count": 8,
   "metadata": {},
   "outputs": [],
   "source": [
    "# Convert data to TensorFlow dataset\n",
    "\n",
    "train_dataset = tf.data.Dataset.from_tensor_slices((data_train, y_train))\n",
    "test_dataset = tf.data.Dataset.from_tensor_slices((data_test, y_test))\n",
    "\n",
    "#Augmentation\n",
    "train_dataset = train_dataset.map(augment_data, num_parallel_calls=tf.data.AUTOTUNE)\n",
    "\n",
    "# Shuffle, batch, and prefetch\n",
    "batch_size = 8\n",
    "\n",
    "train_dataset = train_dataset.shuffle(buffer_size=100).batch(batch_size).prefetch(tf.data.AUTOTUNE)\n",
    "test_dataset = test_dataset.batch(batch_size).prefetch(tf.data.AUTOTUNE)"
   ]
  },
  {
   "cell_type": "code",
   "execution_count": 9,
   "metadata": {},
   "outputs": [
    {
     "name": "stdout",
     "output_type": "stream",
     "text": [
      "Model: \"sequential\"\n",
      "_________________________________________________________________\n",
      " Layer (type)                Output Shape              Param #   \n",
      "=================================================================\n",
      " conv3d (Conv3D)             (None, 30, 30, 318, 32)   896       \n",
      "                                                                 \n",
      " average_pooling3d (AverageP  (None, 15, 15, 159, 32)  0         \n",
      " ooling3D)                                                       \n",
      "                                                                 \n",
      " conv3d_1 (Conv3D)           (None, 13, 13, 157, 64)   55360     \n",
      "                                                                 \n",
      " conv3d_2 (Conv3D)           (None, 11, 11, 155, 128)  221312    \n",
      "                                                                 \n",
      " average_pooling3d_1 (Averag  (None, 5, 5, 77, 128)    0         \n",
      " ePooling3D)                                                     \n",
      "                                                                 \n",
      " flatten (Flatten)           (None, 246400)            0         \n",
      "                                                                 \n",
      " dense (Dense)               (None, 128)               31539328  \n",
      "                                                                 \n",
      " dense_1 (Dense)             (None, 2)                 258       \n",
      "                                                                 \n",
      "=================================================================\n",
      "Total params: 31,817,154\n",
      "Trainable params: 31,817,154\n",
      "Non-trainable params: 0\n",
      "_________________________________________________________________\n"
     ]
    },
    {
     "data": {
      "text/plain": [
       "\"\\n\\ninput_shape = (32, 32, 320, 1)\\n\\nmodel = models.Sequential([\\n    \\n    layers.Conv3D(32, kernel_size=(3, 3, 3), strides=(1, 1, 1), activation='relu',\\n                  kernel_regularizer=regularizers.l2(0.01), input_shape=input_shape),\\n    layers.BatchNormalization(),\\n    layers.AveragePooling3D(pool_size=(2, 2, 2)),\\n    \\n    #layers.Dropout(0.3),  # Dropout with a rate of 0.3\\n\\n\\n    layers.Conv3D(64, kernel_size=(3, 3, 3), strides=(1, 1, 1), activation='relu',\\n                  kernel_regularizer=regularizers.l2(0.001)),\\n    layers.BatchNormalization(),\\n    \\n    \\n    layers.Conv3D(128, kernel_size=(3, 3, 3), strides=(1, 1, 1), activation='relu',\\n                  kernel_regularizer=regularizers.l2(0.0001)),\\n    layers.BatchNormalization(),\\n    layers.AveragePooling3D(pool_size=(2, 2, 2)),\\n    \\n    #layers.Dropout(0.3),  # Dropout with a rate of 0.3\\n\\n    layers.Flatten(),\\n\\n    layers.Dense(128, activation='relu', kernel_regularizer=regularizers.l2(0.001)),\\n    layers.Dropout(0.5),  # Dropout with a rate of 0.5\\n    \\n    #layers.BatchNormalization(),\\n    \\n    layers.Dense(64, activation='relu'),\\n    layers.Dense(2, activation='sigmoid')\\n])\\n\\nmodel.summary()\\n\""
      ]
     },
     "execution_count": 9,
     "metadata": {},
     "output_type": "execute_result"
    }
   ],
   "source": [
    "tf.random.set_seed(1234)\n",
    "\n",
    "input_shape = (32, 32, 320, 1)\n",
    "\n",
    "model = models.Sequential([\n",
    "    layers.Conv3D(32, kernel_size=(3, 3, 3), strides=(1, 1, 1), activation='relu', input_shape=input_shape),\n",
    "    layers.AveragePooling3D(pool_size=(2, 2, 2)),\n",
    "    \n",
    "    layers.Conv3D(64, kernel_size=(3, 3, 3), strides=(1, 1, 1), activation='relu'),\n",
    "    layers.Conv3D(128, kernel_size=(3, 3, 3), strides=(1, 1, 1), activation='relu'),\n",
    "    layers.AveragePooling3D(pool_size=(2, 2, 2)),\n",
    "    \n",
    "    layers.Flatten(),\n",
    "    \n",
    "    layers.Dense(128, activation='relu'),\n",
    "    layers.Dense(2, activation='sigmoid')\n",
    "])\n",
    "\n",
    "model.summary()\n",
    "'''\n",
    "\n",
    "input_shape = (32, 32, 320, 1)\n",
    "\n",
    "model = models.Sequential([\n",
    "    \n",
    "    layers.Conv3D(32, kernel_size=(3, 3, 3), strides=(1, 1, 1), activation='relu',\n",
    "                  kernel_regularizer=regularizers.l2(0.01), input_shape=input_shape),\n",
    "    layers.BatchNormalization(),\n",
    "    layers.AveragePooling3D(pool_size=(2, 2, 2)),\n",
    "    \n",
    "    #layers.Dropout(0.3),  # Dropout with a rate of 0.3\n",
    "\n",
    "\n",
    "    layers.Conv3D(64, kernel_size=(3, 3, 3), strides=(1, 1, 1), activation='relu',\n",
    "                  kernel_regularizer=regularizers.l2(0.001)),\n",
    "    layers.BatchNormalization(),\n",
    "    \n",
    "    \n",
    "    layers.Conv3D(128, kernel_size=(3, 3, 3), strides=(1, 1, 1), activation='relu',\n",
    "                  kernel_regularizer=regularizers.l2(0.0001)),\n",
    "    layers.BatchNormalization(),\n",
    "    layers.AveragePooling3D(pool_size=(2, 2, 2)),\n",
    "    \n",
    "    #layers.Dropout(0.3),  # Dropout with a rate of 0.3\n",
    "\n",
    "    layers.Flatten(),\n",
    "\n",
    "    layers.Dense(128, activation='relu', kernel_regularizer=regularizers.l2(0.001)),\n",
    "    layers.Dropout(0.5),  # Dropout with a rate of 0.5\n",
    "    \n",
    "    #layers.BatchNormalization(),\n",
    "    \n",
    "    layers.Dense(64, activation='relu'),\n",
    "    layers.Dense(2, activation='sigmoid')\n",
    "])\n",
    "\n",
    "model.summary()\n",
    "'''"
   ]
  },
  {
   "cell_type": "code",
   "execution_count": 10,
   "metadata": {},
   "outputs": [
    {
     "name": "stdout",
     "output_type": "stream",
     "text": [
      "Epoch 1/100\n",
      "33/33 [==============================] - ETA: 0s - loss: 7.6424 - accuracy: 0.6591\n",
      "Epoch 1: val_accuracy improved from -inf to 0.50000, saving model to best_model_3.h5\n",
      "33/33 [==============================] - 18s 246ms/step - loss: 7.6424 - accuracy: 0.6591 - val_loss: 0.8051 - val_accuracy: 0.5000\n",
      "Epoch 2/100\n",
      "33/33 [==============================] - ETA: 0s - loss: 0.7793 - accuracy: 0.2424\n",
      "Epoch 2: val_accuracy did not improve from 0.50000\n",
      "33/33 [==============================] - 7s 216ms/step - loss: 0.7793 - accuracy: 0.2424 - val_loss: 0.6931 - val_accuracy: 0.5000\n",
      "Epoch 3/100\n",
      "33/33 [==============================] - ETA: 0s - loss: 0.6943 - accuracy: 0.3182\n",
      "Epoch 3: val_accuracy did not improve from 0.50000\n",
      "33/33 [==============================] - 7s 215ms/step - loss: 0.6943 - accuracy: 0.3182 - val_loss: 0.6931 - val_accuracy: 0.5000\n",
      "Epoch 4/100\n",
      "33/33 [==============================] - ETA: 0s - loss: 0.6941 - accuracy: 0.3258\n",
      "Epoch 4: val_accuracy did not improve from 0.50000\n",
      "33/33 [==============================] - 7s 213ms/step - loss: 0.6941 - accuracy: 0.3258 - val_loss: 0.6932 - val_accuracy: 0.5000\n",
      "Epoch 5/100\n",
      "33/33 [==============================] - ETA: 0s - loss: 0.6944 - accuracy: 0.3258\n",
      "Epoch 5: val_accuracy did not improve from 0.50000\n",
      "33/33 [==============================] - 7s 211ms/step - loss: 0.6944 - accuracy: 0.3258 - val_loss: 0.6931 - val_accuracy: 0.5000\n",
      "Epoch 6/100\n",
      "33/33 [==============================] - ETA: 0s - loss: 0.6940 - accuracy: 0.3409\n",
      "Epoch 6: val_accuracy did not improve from 0.50000\n",
      "33/33 [==============================] - 7s 213ms/step - loss: 0.6940 - accuracy: 0.3409 - val_loss: 0.6931 - val_accuracy: 0.5000\n",
      "Epoch 7/100\n",
      "33/33 [==============================] - ETA: 0s - loss: 0.6942 - accuracy: 0.3030\n",
      "Epoch 7: val_accuracy did not improve from 0.50000\n",
      "33/33 [==============================] - 7s 211ms/step - loss: 0.6942 - accuracy: 0.3030 - val_loss: 0.6931 - val_accuracy: 0.5000\n",
      "Epoch 8/100\n",
      "33/33 [==============================] - ETA: 0s - loss: 0.6943 - accuracy: 0.3182\n",
      "Epoch 8: val_accuracy did not improve from 0.50000\n",
      "33/33 [==============================] - 7s 212ms/step - loss: 0.6943 - accuracy: 0.3182 - val_loss: 0.6932 - val_accuracy: 0.5000\n",
      "Epoch 9/100\n",
      "33/33 [==============================] - ETA: 0s - loss: 0.6944 - accuracy: 0.2727\n",
      "Epoch 9: val_accuracy did not improve from 0.50000\n",
      "33/33 [==============================] - 7s 211ms/step - loss: 0.6944 - accuracy: 0.2727 - val_loss: 0.6932 - val_accuracy: 0.5000\n",
      "Epoch 10/100\n",
      "33/33 [==============================] - ETA: 0s - loss: 0.6943 - accuracy: 0.2955\n",
      "Epoch 10: val_accuracy did not improve from 0.50000\n",
      "33/33 [==============================] - 7s 211ms/step - loss: 0.6943 - accuracy: 0.2955 - val_loss: 0.6931 - val_accuracy: 0.5000\n",
      "Epoch 11/100\n",
      "33/33 [==============================] - ETA: 0s - loss: 0.6943 - accuracy: 0.2955\n",
      "Epoch 11: val_accuracy did not improve from 0.50000\n",
      "33/33 [==============================] - 7s 212ms/step - loss: 0.6943 - accuracy: 0.2955 - val_loss: 0.6932 - val_accuracy: 0.5000\n",
      "Epoch 12/100\n",
      "33/33 [==============================] - ETA: 0s - loss: 0.6942 - accuracy: 0.3182\n",
      "Epoch 12: val_accuracy did not improve from 0.50000\n",
      "33/33 [==============================] - 7s 212ms/step - loss: 0.6942 - accuracy: 0.3182 - val_loss: 0.6931 - val_accuracy: 0.5000\n",
      "Epoch 13/100\n",
      "33/33 [==============================] - ETA: 0s - loss: 0.6945 - accuracy: 0.2879\n",
      "Epoch 13: val_accuracy did not improve from 0.50000\n",
      "33/33 [==============================] - 7s 212ms/step - loss: 0.6945 - accuracy: 0.2879 - val_loss: 0.6932 - val_accuracy: 0.5000\n",
      "Epoch 14/100\n",
      "33/33 [==============================] - ETA: 0s - loss: 0.6940 - accuracy: 0.3409\n",
      "Epoch 14: val_accuracy did not improve from 0.50000\n",
      "33/33 [==============================] - 7s 214ms/step - loss: 0.6940 - accuracy: 0.3409 - val_loss: 0.6932 - val_accuracy: 0.5000\n",
      "Epoch 15/100\n",
      "33/33 [==============================] - ETA: 0s - loss: 0.6943 - accuracy: 0.3182\n",
      "Epoch 15: val_accuracy did not improve from 0.50000\n",
      "33/33 [==============================] - 7s 212ms/step - loss: 0.6943 - accuracy: 0.3182 - val_loss: 0.6932 - val_accuracy: 0.5000\n",
      "Epoch 16/100\n",
      "33/33 [==============================] - ETA: 0s - loss: 0.6940 - accuracy: 0.3409\n",
      "Epoch 16: val_accuracy did not improve from 0.50000\n",
      "33/33 [==============================] - 7s 214ms/step - loss: 0.6940 - accuracy: 0.3409 - val_loss: 0.6932 - val_accuracy: 0.5000\n",
      "Epoch 17/100\n",
      "33/33 [==============================] - ETA: 0s - loss: 0.6947 - accuracy: 0.2879\n",
      "Epoch 17: val_accuracy did not improve from 0.50000\n",
      "33/33 [==============================] - 7s 212ms/step - loss: 0.6947 - accuracy: 0.2879 - val_loss: 0.6932 - val_accuracy: 0.5000\n",
      "Epoch 18/100\n",
      "33/33 [==============================] - ETA: 0s - loss: 0.6942 - accuracy: 0.3409\n",
      "Epoch 18: val_accuracy did not improve from 0.50000\n",
      "33/33 [==============================] - 7s 213ms/step - loss: 0.6942 - accuracy: 0.3409 - val_loss: 0.6932 - val_accuracy: 0.5000\n",
      "Epoch 19/100\n",
      "33/33 [==============================] - ETA: 0s - loss: 0.6947 - accuracy: 0.2803\n",
      "Epoch 19: val_accuracy did not improve from 0.50000\n",
      "33/33 [==============================] - 7s 213ms/step - loss: 0.6947 - accuracy: 0.2803 - val_loss: 0.6932 - val_accuracy: 0.5000\n",
      "Epoch 20/100\n",
      "33/33 [==============================] - ETA: 0s - loss: 0.6941 - accuracy: 0.3561\n",
      "Epoch 20: val_accuracy did not improve from 0.50000\n",
      "33/33 [==============================] - 7s 212ms/step - loss: 0.6941 - accuracy: 0.3561 - val_loss: 0.6932 - val_accuracy: 0.5000\n",
      "Epoch 21/100\n",
      "33/33 [==============================] - ETA: 0s - loss: 0.6945 - accuracy: 0.2803\n",
      "Epoch 21: val_accuracy did not improve from 0.50000\n",
      "33/33 [==============================] - 7s 212ms/step - loss: 0.6945 - accuracy: 0.2803 - val_loss: 0.6932 - val_accuracy: 0.5000\n",
      "Epoch 22/100\n",
      "33/33 [==============================] - ETA: 0s - loss: 0.6942 - accuracy: 0.3106\n",
      "Epoch 22: val_accuracy did not improve from 0.50000\n",
      "33/33 [==============================] - 7s 213ms/step - loss: 0.6942 - accuracy: 0.3106 - val_loss: 0.6932 - val_accuracy: 0.5000\n",
      "Epoch 23/100\n",
      "33/33 [==============================] - ETA: 0s - loss: 0.6942 - accuracy: 0.3182\n",
      "Epoch 23: val_accuracy did not improve from 0.50000\n",
      "33/33 [==============================] - 7s 212ms/step - loss: 0.6942 - accuracy: 0.3182 - val_loss: 0.6932 - val_accuracy: 0.5000\n",
      "Epoch 24/100\n",
      "33/33 [==============================] - ETA: 0s - loss: 0.6941 - accuracy: 0.3485\n",
      "Epoch 24: val_accuracy did not improve from 0.50000\n",
      "33/33 [==============================] - 7s 212ms/step - loss: 0.6941 - accuracy: 0.3485 - val_loss: 0.6932 - val_accuracy: 0.5000\n",
      "Epoch 25/100\n",
      "33/33 [==============================] - ETA: 0s - loss: 0.6941 - accuracy: 0.3409\n",
      "Epoch 25: val_accuracy did not improve from 0.50000\n",
      "33/33 [==============================] - 7s 212ms/step - loss: 0.6941 - accuracy: 0.3409 - val_loss: 0.6932 - val_accuracy: 0.5000\n",
      "Epoch 26/100\n",
      "33/33 [==============================] - ETA: 0s - loss: 0.6940 - accuracy: 0.3561\n",
      "Epoch 26: val_accuracy did not improve from 0.50000\n",
      "33/33 [==============================] - 7s 212ms/step - loss: 0.6940 - accuracy: 0.3561 - val_loss: 0.6932 - val_accuracy: 0.5000\n",
      "Epoch 27/100\n",
      "33/33 [==============================] - ETA: 0s - loss: 0.6954 - accuracy: 0.2348\n",
      "Epoch 27: val_accuracy did not improve from 0.50000\n",
      "33/33 [==============================] - 7s 211ms/step - loss: 0.6954 - accuracy: 0.2348 - val_loss: 0.6931 - val_accuracy: 0.5000\n",
      "Epoch 28/100\n",
      "33/33 [==============================] - ETA: 0s - loss: 0.6938 - accuracy: 0.3485\n",
      "Epoch 28: val_accuracy did not improve from 0.50000\n",
      "33/33 [==============================] - 7s 214ms/step - loss: 0.6938 - accuracy: 0.3485 - val_loss: 0.6932 - val_accuracy: 0.5000\n",
      "Epoch 29/100\n",
      "33/33 [==============================] - ETA: 0s - loss: 0.6944 - accuracy: 0.3182\n",
      "Epoch 29: val_accuracy did not improve from 0.50000\n",
      "33/33 [==============================] - 7s 212ms/step - loss: 0.6944 - accuracy: 0.3182 - val_loss: 0.6932 - val_accuracy: 0.5000\n",
      "Epoch 30/100\n",
      "33/33 [==============================] - ETA: 0s - loss: 0.6938 - accuracy: 0.3636\n",
      "Epoch 30: val_accuracy did not improve from 0.50000\n",
      "33/33 [==============================] - 7s 214ms/step - loss: 0.6938 - accuracy: 0.3636 - val_loss: 0.6932 - val_accuracy: 0.5000\n",
      "Epoch 31/100\n",
      "33/33 [==============================] - ETA: 0s - loss: 0.6945 - accuracy: 0.3182\n",
      "Epoch 31: val_accuracy did not improve from 0.50000\n",
      "33/33 [==============================] - 7s 212ms/step - loss: 0.6945 - accuracy: 0.3182 - val_loss: 0.6932 - val_accuracy: 0.5000\n",
      "Epoch 32/100\n",
      "33/33 [==============================] - ETA: 0s - loss: 0.6941 - accuracy: 0.3409\n",
      "Epoch 32: val_accuracy did not improve from 0.50000\n",
      "33/33 [==============================] - 7s 212ms/step - loss: 0.6941 - accuracy: 0.3409 - val_loss: 0.6932 - val_accuracy: 0.5000\n",
      "Epoch 33/100\n",
      "33/33 [==============================] - ETA: 0s - loss: 0.6945 - accuracy: 0.2955\n",
      "Epoch 33: val_accuracy did not improve from 0.50000\n",
      "33/33 [==============================] - 7s 211ms/step - loss: 0.6945 - accuracy: 0.2955 - val_loss: 0.6932 - val_accuracy: 0.5000\n",
      "Epoch 34/100\n",
      "33/33 [==============================] - ETA: 0s - loss: 0.6939 - accuracy: 0.3561\n",
      "Epoch 34: val_accuracy did not improve from 0.50000\n",
      "33/33 [==============================] - 7s 211ms/step - loss: 0.6939 - accuracy: 0.3561 - val_loss: 0.6932 - val_accuracy: 0.5000\n",
      "Epoch 35/100\n",
      "33/33 [==============================] - ETA: 0s - loss: 0.6939 - accuracy: 0.3561\n",
      "Epoch 35: val_accuracy did not improve from 0.50000\n",
      "33/33 [==============================] - 7s 211ms/step - loss: 0.6939 - accuracy: 0.3561 - val_loss: 0.6932 - val_accuracy: 0.5000\n",
      "Epoch 36/100\n",
      "33/33 [==============================] - ETA: 0s - loss: 0.6942 - accuracy: 0.3409\n",
      "Epoch 36: val_accuracy did not improve from 0.50000\n",
      "33/33 [==============================] - 7s 212ms/step - loss: 0.6942 - accuracy: 0.3409 - val_loss: 0.6932 - val_accuracy: 0.5000\n",
      "Epoch 37/100\n",
      "33/33 [==============================] - ETA: 0s - loss: 0.6943 - accuracy: 0.3106\n",
      "Epoch 37: val_accuracy did not improve from 0.50000\n",
      "33/33 [==============================] - 7s 212ms/step - loss: 0.6943 - accuracy: 0.3106 - val_loss: 0.6932 - val_accuracy: 0.5000\n",
      "Epoch 38/100\n",
      "33/33 [==============================] - ETA: 0s - loss: 0.6945 - accuracy: 0.3106\n",
      "Epoch 38: val_accuracy did not improve from 0.50000\n",
      "33/33 [==============================] - 7s 212ms/step - loss: 0.6945 - accuracy: 0.3106 - val_loss: 0.6932 - val_accuracy: 0.5000\n",
      "Epoch 39/100\n",
      "33/33 [==============================] - ETA: 0s - loss: 0.6940 - accuracy: 0.3561\n",
      "Epoch 39: val_accuracy did not improve from 0.50000\n",
      "33/33 [==============================] - 7s 212ms/step - loss: 0.6940 - accuracy: 0.3561 - val_loss: 0.6932 - val_accuracy: 0.5000\n",
      "Epoch 40/100\n",
      "33/33 [==============================] - ETA: 0s - loss: 0.6944 - accuracy: 0.3182\n",
      "Epoch 40: val_accuracy did not improve from 0.50000\n",
      "33/33 [==============================] - 7s 212ms/step - loss: 0.6944 - accuracy: 0.3182 - val_loss: 0.6932 - val_accuracy: 0.5000\n",
      "Epoch 41/100\n",
      "33/33 [==============================] - ETA: 0s - loss: 0.6944 - accuracy: 0.2955\n",
      "Epoch 41: val_accuracy did not improve from 0.50000\n",
      "33/33 [==============================] - 7s 212ms/step - loss: 0.6944 - accuracy: 0.2955 - val_loss: 0.6932 - val_accuracy: 0.5000\n",
      "Epoch 42/100\n",
      "33/33 [==============================] - ETA: 0s - loss: 0.6941 - accuracy: 0.3258\n",
      "Epoch 42: val_accuracy did not improve from 0.50000\n",
      "33/33 [==============================] - 7s 213ms/step - loss: 0.6941 - accuracy: 0.3258 - val_loss: 0.6932 - val_accuracy: 0.5000\n",
      "Epoch 43/100\n",
      "33/33 [==============================] - ETA: 0s - loss: 0.6943 - accuracy: 0.3030\n",
      "Epoch 43: val_accuracy did not improve from 0.50000\n",
      "33/33 [==============================] - 7s 211ms/step - loss: 0.6943 - accuracy: 0.3030 - val_loss: 0.6932 - val_accuracy: 0.5000\n",
      "Epoch 44/100\n",
      "33/33 [==============================] - ETA: 0s - loss: 0.6942 - accuracy: 0.3485\n",
      "Epoch 44: val_accuracy did not improve from 0.50000\n",
      "33/33 [==============================] - 7s 212ms/step - loss: 0.6942 - accuracy: 0.3485 - val_loss: 0.6932 - val_accuracy: 0.5000\n",
      "Epoch 45/100\n",
      "33/33 [==============================] - ETA: 0s - loss: 0.6943 - accuracy: 0.2803\n",
      "Epoch 45: val_accuracy did not improve from 0.50000\n",
      "33/33 [==============================] - 7s 212ms/step - loss: 0.6943 - accuracy: 0.2803 - val_loss: 0.6932 - val_accuracy: 0.5000\n"
     ]
    }
   ],
   "source": [
    "model.compile(optimizer='adam', loss='sparse_categorical_crossentropy', metrics=['accuracy'])\n",
    "\n",
    "'''\n",
    "history = model.fit(train_dataset, epochs=100, validation_data=test_dataset, callbacks=[\n",
    "                        tf.keras.callbacks.EarlyStopping(\n",
    "                            monitor = 'loss',\n",
    "                            patience = 5,\n",
    "                            restore_best_weights = True\n",
    "                        )\n",
    "                    ])\n",
    "\n",
    "'''\n",
    "# Define the callbacks\n",
    "checkpoint_callback = tf.keras.callbacks.ModelCheckpoint(\n",
    "    filepath = 'best_model_3.h5',   \n",
    "    monitor = 'val_accuracy',  \n",
    "    save_best_only = True,       \n",
    "    save_weights_only = False,  \n",
    "    mode = 'max',\n",
    "    verbose = 1\n",
    ")\n",
    "\n",
    "early_stopping_callback = tf.keras.callbacks.EarlyStopping(\n",
    "    monitor = 'loss',\n",
    "    patience = 15,\n",
    "    restore_best_weights = True\n",
    ")\n",
    "\n",
    "# Train the model with the callbacks\n",
    "history = model.fit(\n",
    "    train_dataset,\n",
    "    epochs = 100,\n",
    "    validation_data = test_dataset,\n",
    "    callbacks = [checkpoint_callback, early_stopping_callback]\n",
    ")"
   ]
  },
  {
   "cell_type": "code",
   "execution_count": 11,
   "metadata": {},
   "outputs": [
    {
     "data": {
      "image/png": "[encoded data removed]",
      "text/plain": [
       "<Figure size 1200x400 with 2 Axes>"
      ]
     },
     "metadata": {},
     "output_type": "display_data"
    }
   ],
   "source": [
    "# Plot training & validation loss\n",
    "plt.figure(figsize=(12, 4))\n",
    "plt.subplot(1, 2, 1)\n",
    "plt.plot(history.history['loss'], label='Train Loss')\n",
    "plt.plot(history.history['val_loss'], label='Validation Loss')\n",
    "plt.title('Loss over Epochs')\n",
    "plt.xlabel('Epochs')\n",
    "plt.ylabel('Loss')\n",
    "plt.legend()\n",
    "\n",
    "# Plot training & validation accuracy\n",
    "plt.subplot(1, 2, 2)\n",
    "plt.plot(history.history['accuracy'], label='Train Accuracy')\n",
    "plt.plot(history.history['val_accuracy'], label='Validation Accuracy')\n",
    "plt.title('Accuracy over Epochs')\n",
    "plt.xlabel('Epochs')\n",
    "plt.ylabel('Accuracy')\n",
    "plt.legend()\n",
    "\n",
    "plt.show()"
   ]
  },
  {
   "cell_type": "code",
   "execution_count": 12,
   "metadata": {},
   "outputs": [
    {
     "name": "stdout",
     "output_type": "stream",
     "text": [
      "17/17 [==============================] - 1s 56ms/step\n"
     ]
    }
   ],
   "source": [
    "# Get true labels and predictions\n",
    "test_labels = np.concatenate([y for x, y in test_dataset], axis=0)\n",
    "predictions = np.argmax(model.predict(test_dataset), axis=-1)"
   ]
  },
  {
   "cell_type": "code",
   "execution_count": 13,
   "metadata": {},
   "outputs": [
    {
     "name": "stdout",
     "output_type": "stream",
     "text": [
      "Classification Report:\n",
      "              precision    recall  f1-score   support\n",
      "\n",
      "           0       0.00      0.00      0.00        66\n",
      "           1       0.50      1.00      0.67        66\n",
      "\n",
      "    accuracy                           0.50       132\n",
      "   macro avg       0.25      0.50      0.33       132\n",
      "weighted avg       0.25      0.50      0.33       132\n",
      "\n"
     ]
    },
    {
     "name": "stderr",
     "output_type": "stream",
     "text": [
      "c:\\Users\\rafin\\AppData\\Local\\Programs\\Python\\Python310\\lib\\site-packages\\sklearn\\metrics\\_classification.py:1471: UndefinedMetricWarning: Precision and F-score are ill-defined and being set to 0.0 in labels with no predicted samples. Use `zero_division` parameter to control this behavior.\n",
      "  _warn_prf(average, modifier, msg_start, len(result))\n",
      "c:\\Users\\rafin\\AppData\\Local\\Programs\\Python\\Python310\\lib\\site-packages\\sklearn\\metrics\\_classification.py:1471: UndefinedMetricWarning: Precision and F-score are ill-defined and being set to 0.0 in labels with no predicted samples. Use `zero_division` parameter to control this behavior.\n",
      "  _warn_prf(average, modifier, msg_start, len(result))\n",
      "c:\\Users\\rafin\\AppData\\Local\\Programs\\Python\\Python310\\lib\\site-packages\\sklearn\\metrics\\_classification.py:1471: UndefinedMetricWarning: Precision and F-score are ill-defined and being set to 0.0 in labels with no predicted samples. Use `zero_division` parameter to control this behavior.\n",
      "  _warn_prf(average, modifier, msg_start, len(result))\n"
     ]
    }
   ],
   "source": [
    "# Classification report\n",
    "print(\"Classification Report:\")\n",
    "print(classification_report(test_labels, predictions))"
   ]
  },
  {
   "cell_type": "code",
   "execution_count": 14,
   "metadata": {},
   "outputs": [
    {
     "data": {
      "image/png": "[encoded data removed]",
      "text/plain": [
       "<Figure size 800x600 with 2 Axes>"
      ]
     },
     "metadata": {},
     "output_type": "display_data"
    }
   ],
   "source": [
    "# Confusion matrix\n",
    "conf_matrix = confusion_matrix(test_labels, predictions)\n",
    "\n",
    "plt.figure(figsize=(8, 6))\n",
    "sns.heatmap(conf_matrix, annot=True, fmt=\"d\", cmap=\"Blues\", xticklabels=[str(i) for i in range(2)], yticklabels=[str(i) for i in range(2)])\n",
    "\n",
    "plt.title(\"Confusion Matrix\")\n",
    "plt.xlabel(\"Predicted Label\")\n",
    "plt.ylabel(\"True Label\")\n",
    "\n",
    "plt.show()"
   ]
  }
 ],
 "metadata": {
  "kernelspec": {
   "display_name": "Python 3",
   "language": "python",
   "name": "python3"
  },
  "language_info": {
   "codemirror_mode": {
    "name": "ipython",
    "version": 3
   },
   "file_extension": ".py",
   "mimetype": "text/x-python",
   "name": "python",
   "nbconvert_exporter": "python",
   "pygments_lexer": "ipython3",
   "version": "3.10.0"
  }
 },
 "nbformat": 4,
 "nbformat_minor": 2
}
