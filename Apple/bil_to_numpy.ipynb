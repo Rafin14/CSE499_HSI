{
 "cells": [
  {
   "cell_type": "code",
   "execution_count": 1,
   "metadata": {},
   "outputs": [],
   "source": [
    "import os\n",
    "import numpy as np\n",
    "import rasterio\n",
    "import matplotlib.pyplot as plt"
   ]
  },
  {
   "cell_type": "code",
   "execution_count": 3,
   "metadata": {},
   "outputs": [
    {
     "name": "stderr",
     "output_type": "stream",
     "text": [
      "c:\\Users\\rafin\\AppData\\Local\\Programs\\Python\\Python310\\lib\\site-packages\\rasterio\\__init__.py:317: NotGeoreferencedWarning: Dataset has no geotransform, gcps, or rpcs. The identity matrix will be returned.\n",
      "  dataset = DatasetReader(path, driver=driver, sharing=sharing, **kwargs)\n"
     ]
    },
    {
     "name": "stdout",
     "output_type": "stream",
     "text": [
      "Saved C:/Users/rafin/Desktop/NSU/NSU 12th Semester/CSE499A.22/Project/Datasets/Apple_Datasets/Apple_HS_BIL_Roi_Masked_npy\\Apple_samples\\Monostar\\Fresh\\1_1PU.npy\n",
      "Saved C:/Users/rafin/Desktop/NSU/NSU 12th Semester/CSE499A.22/Project/Datasets/Apple_Datasets/Apple_HS_BIL_Roi_Masked_npy\\Apple_samples\\Monostar\\Fresh\\1_2PU.npy\n",
      "Saved C:/Users/rafin/Desktop/NSU/NSU 12th Semester/CSE499A.22/Project/Datasets/Apple_Datasets/Apple_HS_BIL_Roi_Masked_npy\\Apple_samples\\Monostar\\High\\1_1HG.npy\n",
      "Saved C:/Users/rafin/Desktop/NSU/NSU 12th Semester/CSE499A.22/Project/Datasets/Apple_Datasets/Apple_HS_BIL_Roi_Masked_npy\\Apple_samples\\Monostar\\High\\1_2HG.npy\n",
      "Saved C:/Users/rafin/Desktop/NSU/NSU 12th Semester/CSE499A.22/Project/Datasets/Apple_Datasets/Apple_HS_BIL_Roi_Masked_npy\\Apple_samples\\Monostar\\Low\\1_1LW.npy\n",
      "Saved C:/Users/rafin/Desktop/NSU/NSU 12th Semester/CSE499A.22/Project/Datasets/Apple_Datasets/Apple_HS_BIL_Roi_Masked_npy\\Apple_samples\\Monostar\\Low\\1_2LW.npy\n",
      "Saved C:/Users/rafin/Desktop/NSU/NSU 12th Semester/CSE499A.22/Project/Datasets/Apple_Datasets/Apple_HS_BIL_Roi_Masked_npy\\Apple_samples\\Monostar\\Unknown\\fresh\\APP1_PU1.npy\n",
      "Saved C:/Users/rafin/Desktop/NSU/NSU 12th Semester/CSE499A.22/Project/Datasets/Apple_Datasets/Apple_HS_BIL_Roi_Masked_npy\\Apple_samples\\Monostar\\Unknown\\fresh\\APP1_PU2.npy\n",
      "Saved C:/Users/rafin/Desktop/NSU/NSU 12th Semester/CSE499A.22/Project/Datasets/Apple_Datasets/Apple_HS_BIL_Roi_Masked_npy\\Apple_samples\\Monostar\\Unknown\\pesticide_unknownconc\\APP1_PST1.npy\n",
      "Saved C:/Users/rafin/Desktop/NSU/NSU 12th Semester/CSE499A.22/Project/Datasets/Apple_Datasets/Apple_HS_BIL_Roi_Masked_npy\\Apple_samples\\Monostar\\Unknown\\pesticide_unknownconc\\APP1_PST2.npy\n",
      "Saved C:/Users/rafin/Desktop/NSU/NSU 12th Semester/CSE499A.22/Project/Datasets/Apple_Datasets/Apple_HS_BIL_Roi_Masked_npy\\Apple_samples\\Nativo\\Fresh\\A1_F1.npy\n",
      "Saved C:/Users/rafin/Desktop/NSU/NSU 12th Semester/CSE499A.22/Project/Datasets/Apple_Datasets/Apple_HS_BIL_Roi_Masked_npy\\Apple_samples\\Nativo\\Fresh\\A1_F2.npy\n",
      "Saved C:/Users/rafin/Desktop/NSU/NSU 12th Semester/CSE499A.22/Project/Datasets/Apple_Datasets/Apple_HS_BIL_Roi_Masked_npy\\Apple_samples\\Nativo\\High\\A1_H1.npy\n",
      "Saved C:/Users/rafin/Desktop/NSU/NSU 12th Semester/CSE499A.22/Project/Datasets/Apple_Datasets/Apple_HS_BIL_Roi_Masked_npy\\Apple_samples\\Nativo\\High\\A1_H2.npy\n",
      "Saved C:/Users/rafin/Desktop/NSU/NSU 12th Semester/CSE499A.22/Project/Datasets/Apple_Datasets/Apple_HS_BIL_Roi_Masked_npy\\Apple_samples\\Nativo\\Low\\A1_L1.npy\n",
      "Saved C:/Users/rafin/Desktop/NSU/NSU 12th Semester/CSE499A.22/Project/Datasets/Apple_Datasets/Apple_HS_BIL_Roi_Masked_npy\\Apple_samples\\Nativo\\Low\\A1_L2.npy\n",
      "Saved C:/Users/rafin/Desktop/NSU/NSU 12th Semester/CSE499A.22/Project/Datasets/Apple_Datasets/Apple_HS_BIL_Roi_Masked_npy\\Fungicide_Apple\\DIB_Apple\\A1_F1.npy\n",
      "Saved C:/Users/rafin/Desktop/NSU/NSU 12th Semester/CSE499A.22/Project/Datasets/Apple_Datasets/Apple_HS_BIL_Roi_Masked_npy\\Fungicide_Apple\\DIB_Apple\\A1_F2.npy\n",
      "Saved C:/Users/rafin/Desktop/NSU/NSU 12th Semester/CSE499A.22/Project/Datasets/Apple_Datasets/Apple_HS_BIL_Roi_Masked_npy\\Fungicide_Apple\\DIB_AppleNativohigh\\A1_H1.npy\n",
      "Saved C:/Users/rafin/Desktop/NSU/NSU 12th Semester/CSE499A.22/Project/Datasets/Apple_Datasets/Apple_HS_BIL_Roi_Masked_npy\\Fungicide_Apple\\DIB_AppleNativohigh\\A1_H2.npy\n",
      "Saved C:/Users/rafin/Desktop/NSU/NSU 12th Semester/CSE499A.22/Project/Datasets/Apple_Datasets/Apple_HS_BIL_Roi_Masked_npy\\Fungicide_Apple\\DIB_AppleNativolow\\A1_L1.npy\n",
      "Saved C:/Users/rafin/Desktop/NSU/NSU 12th Semester/CSE499A.22/Project/Datasets/Apple_Datasets/Apple_HS_BIL_Roi_Masked_npy\\Fungicide_Apple\\DIB_AppleNativolow\\A1_L2.npy\n",
      "Saved C:/Users/rafin/Desktop/NSU/NSU 12th Semester/CSE499A.22/Project/Datasets/Apple_Datasets/Apple_HS_BIL_Roi_Masked_npy\\Pesticide_Apple\\DIB_Applemono\\MA1_F1.npy\n",
      "Saved C:/Users/rafin/Desktop/NSU/NSU 12th Semester/CSE499A.22/Project/Datasets/Apple_Datasets/Apple_HS_BIL_Roi_Masked_npy\\Pesticide_Apple\\DIB_Applemono\\MA1_F2.npy\n",
      "Saved C:/Users/rafin/Desktop/NSU/NSU 12th Semester/CSE499A.22/Project/Datasets/Apple_Datasets/Apple_HS_BIL_Roi_Masked_npy\\Pesticide_Apple\\DIB_Applemonohigh\\MA1_H1.npy\n",
      "Saved C:/Users/rafin/Desktop/NSU/NSU 12th Semester/CSE499A.22/Project/Datasets/Apple_Datasets/Apple_HS_BIL_Roi_Masked_npy\\Pesticide_Apple\\DIB_Applemonohigh\\MA1_H2.npy\n",
      "Saved C:/Users/rafin/Desktop/NSU/NSU 12th Semester/CSE499A.22/Project/Datasets/Apple_Datasets/Apple_HS_BIL_Roi_Masked_npy\\Pesticide_Apple\\DIB_Applemonolow\\MA1_L1.npy\n",
      "Saved C:/Users/rafin/Desktop/NSU/NSU 12th Semester/CSE499A.22/Project/Datasets/Apple_Datasets/Apple_HS_BIL_Roi_Masked_npy\\Pesticide_Apple\\DIB_Applemonolow\\MA1_L2.npy\n"
     ]
    }
   ],
   "source": [
    "input_directory = 'C:/Users/rafin/Desktop/NSU/NSU 12th Semester/CSE499A.22/Project/Datasets/Apple_Datasets/Apple_HS_BIL_Roi_Masked'\n",
    "output_directory = 'C:/Users/rafin/Desktop/NSU/NSU 12th Semester/CSE499A.22/Project/Datasets/Apple_Datasets/Apple_HS_BIL_Roi_Masked_npy'\n",
    "\n",
    "\n",
    "# Ensure output directory exists\n",
    "if not os.path.exists(output_directory):\n",
    "    \n",
    "    os.makedirs(output_directory)\n",
    "\n",
    "# Loop through all files in the directory\n",
    "for root, dirs, files in os.walk(input_directory):\n",
    "    \n",
    "    for file in files:\n",
    "        \n",
    "        if file.endswith('.bil'):\n",
    "            \n",
    "            \n",
    "            bil_file_path = os.path.join(root, file)\n",
    "            \n",
    "            # Read the .bil file\n",
    "            with rasterio.open(bil_file_path) as dataset:\n",
    "                \n",
    "                # Read all bands \n",
    "                array = dataset.read()  \n",
    "\n",
    "            relative_path = os.path.relpath(root, input_directory)\n",
    "            output_folder = os.path.join(output_directory, relative_path)\n",
    "\n",
    "            if not os.path.exists(output_folder):\n",
    "                \n",
    "                os.makedirs(output_folder)\n",
    "\n",
    "            # Create a single output file path for all bands\n",
    "            output_file_path = os.path.join(output_folder, file.replace('.bil', '.npy'))\n",
    "\n",
    "            # Save as .npy file\n",
    "            np.save(output_file_path, array)\n",
    "\n",
    "            print(f\"Saved {output_file_path}\")"
   ]
  },
  {
   "cell_type": "code",
   "execution_count": null,
   "metadata": {},
   "outputs": [],
   "source": [
    "#Labels\n",
    "output_directory = \"C:/Users/rafin/Desktop/Apple_HS_BIL_TEST\"\n",
    "\n",
    "# Initialize a dictionary for labels\n",
    "labels = {}\n",
    "\n",
    "for root, dirs, files in os.walk(output_directory):\n",
    "    \n",
    "    for file in files:\n",
    "        \n",
    "        if file.endswith('.npy'):\n",
    "            \n",
    "            # Full file path\n",
    "            npy_file_path = os.path.join(root, file)\n",
    "            \n",
    "            # Load the NumPy array\n",
    "            data = np.load(npy_file_path)\n",
    "            \n",
    "            # Extract the label from the folder name\n",
    "            folder_name = os.path.basename(root)\n",
    "            \n",
    "            labels[npy_file_path] = folder_name  # Store the label\n",
    "\n",
    "\n",
    "# Print all labels\n",
    "print(\"Labels assigned based on folder names:\")\n",
    "\n",
    "for npy_file, label in labels.items():\n",
    "    \n",
    "    print(f\"{npy_file}: {label}\")"
   ]
  },
  {
   "cell_type": "code",
   "execution_count": null,
   "metadata": {},
   "outputs": [],
   "source": [
    "#Structured array with labels\n",
    "\n",
    "data_with_labels = []\n",
    "\n",
    "for root, dirs, files in os.walk(output_directory):\n",
    "    \n",
    "    for file in files:\n",
    "        \n",
    "        if file.endswith('.npy'):\n",
    "            \n",
    "            npy_file_path = os.path.join(root, file)\n",
    "            data = np.load(npy_file_path)\n",
    "            folder_name = os.path.basename(root)\n",
    "\n",
    "            # Append to the structured array\n",
    "            data_with_labels.append((folder_name, data))\n",
    "\n",
    "# Convert to structured array\n",
    "structured_array = np.array(data_with_labels, dtype=[('label', 'U50'), ('array', 'O')])"
   ]
  },
  {
   "cell_type": "code",
   "execution_count": null,
   "metadata": {},
   "outputs": [],
   "source": [
    "for entry in structured_array:\n",
    "    \n",
    "    print(f\"Label: {entry['label']}, Array shape: {entry['array'].shape}\")\n",
    "\n",
    "    band_index = 51\n",
    "    band_data = entry['array'][band_index]\n",
    "\n",
    "    plt.figure(figsize=(8, 6))\n",
    "    plt.imshow(band_data, cmap='gray')\n",
    "    plt.title(f'Band {band_index + 1} - Label: {entry[\"label\"]}')\n",
    "    plt.colorbar(label='Pixel Values')\n",
    "    \n",
    "    plt.axis('off')\n",
    "    plt.show()"
   ]
  },
  {
   "cell_type": "code",
   "execution_count": null,
   "metadata": {},
   "outputs": [],
   "source": [
    "structured_array_path = \"C:/Users/rafin/Desktop/structured_array.npy\"\n",
    "\n",
    "np.save(structured_array_path, structured_array)"
   ]
  },
  {
   "cell_type": "code",
   "execution_count": null,
   "metadata": {},
   "outputs": [],
   "source": [
    "structured_array.shape"
   ]
  }
 ],
 "metadata": {
  "kernelspec": {
   "display_name": "Python 3",
   "language": "python",
   "name": "python3"
  },
  "language_info": {
   "codemirror_mode": {
    "name": "ipython",
    "version": 3
   },
   "file_extension": ".py",
   "mimetype": "text/x-python",
   "name": "python",
   "nbconvert_exporter": "python",
   "pygments_lexer": "ipython3",
   "version": "3.10.0"
  }
 },
 "nbformat": 4,
 "nbformat_minor": 2
}
